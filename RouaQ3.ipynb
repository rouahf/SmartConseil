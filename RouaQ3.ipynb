{
 "cells": [
  {
   "cell_type": "code",
   "execution_count": 1,
   "id": "c2111b10",
   "metadata": {},
   "outputs": [],
   "source": [
    "from selenium import webdriver\n",
    "from selenium.webdriver.chrome.service import Service\n",
    "from selenium.webdriver.support.ui import WebDriverWait\n",
    "from selenium.webdriver.support import expected_conditions as EC\n",
    "from selenium.webdriver.common.by import By\n",
    "from pymongo import MongoClient\n",
    "from bs4 import BeautifulSoup\n",
    "import requests\n",
    "import urllib.request\n",
    "import os\n",
    "from time import sleep\n",
    "\n",
    "# Configuration du service pour le pilote Chrome\n",
    "service = Service(r'C:\\chromedriver-win64\\chromedriver.exe')\n",
    "browser = webdriver.Chrome(service=service)\n",
    "browser.get('https://mbasic.facebook.com/')"
   ]
  },
  {
   "cell_type": "code",
   "execution_count": 2,
   "id": "40c4ff67",
   "metadata": {},
   "outputs": [],
   "source": [
    "from selenium import webdriver\n",
    "from selenium.webdriver.chrome.service import Service\n",
    "from selenium.webdriver.support.ui import WebDriverWait\n",
    "from selenium.webdriver.support import expected_conditions as EC\n",
    "from selenium.webdriver.common.by import By\n",
    "from pymongo import MongoClient\n",
    "from bs4 import BeautifulSoup\n",
    "import requests\n",
    "import urllib.request\n",
    "import os\n",
    "from time import sleep\n",
    "\n",
    "# Configuration du service pour le pilote Chrome\n",
    "service = Service(r'C:\\chromedriver-win64\\chromedriver.exe')\n",
    "browser = webdriver.Chrome(service=service)\n",
    "browser.get('https://mbasic.facebook.com/')\n",
    "\n",
    "# Saisir les informations de connexion\n",
    "try:\n",
    "    username = WebDriverWait(browser, 1000).until(EC.element_to_be_clickable((By.CSS_SELECTOR, \"input[name='email']\")))\n",
    "    password = WebDriverWait(browser, 1000).until(EC.element_to_be_clickable((By.CSS_SELECTOR, \"input[name='pass']\")))\n",
    "    username.clear()\n",
    "    username.send_keys(\"rouuahf@gmail.com\")\n",
    "    password.clear()\n",
    "    password.send_keys(\"*****\")\n",
    "    login_btn = browser.find_element(By.XPATH, '//*[@id=\"login_form\"]/ul/li[3]/input')\n",
    "    login_btn.click()\n",
    "    sleep(2)\n",
    "except Exception as e:\n",
    "    print(\"Error finding username or password fields: \", e)\n",
    "    browser.quit()\n",
    "\n",
    "# Rechercher un hashtag spécifique\n",
    "try:\n",
    "    search = WebDriverWait(browser, 10).until(EC.element_to_be_clickable((By.CSS_SELECTOR, \"input[name='query']\")))\n",
    "    search.clear()\n",
    "    search.send_keys(\"#Jacques Chirac\")\n",
    "    search_btn = browser.find_element(By.XPATH, '//*[@id=\"header\"]/form/table/tbody/tr/td[3]/input')\n",
    "    search_btn.click()\n",
    "except Exception as e:\n",
    "    print(f\"Error during search: {e}\")\n",
    "    browser.quit()\n"
   ]
  },
  {
   "cell_type": "code",
   "execution_count": 3,
   "id": "17c98704",
   "metadata": {},
   "outputs": [
    {
     "name": "stdout",
     "output_type": "stream",
     "text": [
      "Post Text:  Les RépliquesL’ancien Premier ministre de droite sous Jacques Chirac, celui qui avait dit « non » à la guerre en Irak en 2003 Dominique de Villepin, annonce qu’il votera Front Populaire face au RN qui « constitue la véritable menace pour notre pays ».20 juin · Personnalisé · dans Photos du journal3,6 KVotre commentaire... · Michel LouisEnfin un politicien qui n'a pas la langue de bois45 · J’aime · Réagir · Répondre · Plus · 20 juinAnna Domi Leloup a répondu · 22 réponsesErick ChandelierQuelle honte, choisir l’antisémite Mélenchon Chávez face au RN… il est bien un gauchiste comme Chirac… choisir que la France devienne le Venezuela… merci triste sire du même acabit que Hollande… vous vous rêvez comme lui, revenir sur le devant de la scène politique…Modifié · 126 · J’aime · Réagir · Répondre · Plus · 20 juinRapides a répondu · 95 réponsesSébastien PillotIl y a beaucoup de politicards de droite, mais il y a eu aussi des hommes d'État. Lui en est un.26 · J’aime · Réagir · Répondre · Plus · 20 juinSébastien Pillot a répondu · 20 réponsesFranck Mac FlyOn se rappellera juste que la Gauche a toujours appeler à voter contre le FN... Edit pour ceux qui ont du mal... La gauche a tjs appelé à voter contre le FN. Voir un ancien premier ministre de Chirac qui lui a été élu contre le FN avec les voix de la Gauche, ça fait du bien de voir ce gars de Droite renvoyer l'ascenseur !Modifié · 62 · J’aime · Réagir · Répondre · Plus · 20 juinFranck Mac Fly a répondu · 17 réponsesRodrigue LoembetUn vrai gars qui mérite le respect.6 · J’aime · Réagir · Répondre · Plus · 20 juinEliane Moya KellerBravo et merci Monsieur, enfin quelqu'un de droite pour faire barrage au FN !58 · J’aime · Réagir · Répondre · Plus · 20 juinTonnerre Cerisaie a répondu · 15 réponsesSerge DoutreSon expérience de premier ministre et d'ancien diplomate font que sa vision du monde est claire et sans parti pris.Modifié · 29 · J’aime · Réagir · Répondre · Plus · 20 juin7 réponsesAnnick Pruvost PiauQuelle honte ! Vous avez été 1er ministre, avec beaucoup d'autres , vous avez une responsabilité dans ce qui arrive en France.Modifié · 4 · J’aime · Réagir · Répondre · Plus · 20 juinDanièle TinierIl agit en responsabilité ! 👍53 · J’aime · Réagir · Répondre · Plus · 20 juinChris Danthuf a répondu · 24 réponsesAlexis Lutherstadt SevenskyChère Gauche, chère Droite,  Depuis 7 ans, notre président de la République œuvre contre la France et les français,  la République et la démocratie.  Mais dans son hubris, il n’a pas vu le cadeau qu'il venait de nous faire. De fait, quelque soit le résultat de ces législatives, la chienlit nous attend pour les deux prochaines années.  Mais, nous peuple de France, méritons mieux que le chaos ou le chaos : Renvoyez la Grenade !  Offrez aux françaises et aux français le pouvoir de trancher  d’ici 1 an, avec de vraies élections en destituant Emannuel Macron. C’est la seule chose pour laquelle vous pouvez être d’accord. Vous aurez ainsi le temps de proposer de vrais programmes,  nous aurons ainsi le temps de choisir en notre âme et conscience. Faites gagner au pays 2 années, retrouver au peuple sa légitimité, donnez à la vie politique une dernière chance. Il y a encore de la place pour l’espoir, ne soyez pas les pyromanes tant décrié par le pouvoir en place.  Que vive la République et vive la France  Citoyen AlexisJ’aime · Réagir · Répondre · Plus · 20 juin Voir plus de commentaires…\n",
      "Comments:  []\n"
     ]
    }
   ],
   "source": [
    "# Naviguer vers l'URL spécifique du post\n",
    "post_url = 'https://mbasic.facebook.com/photo.php?fbid=850132430473198&id=100064293475320&set=a.592631862889924&eav=AfYdDQo8thcZ3s5LdIeZ4WnAoZwvSWMrqiHsXiygkxXpKvB5BFoL1wvkmIqPBfWN5Vk&paipv=0&refid=46&__xts__%5B0%5D=12.AbrhDLp4Q7edI8ooxFmDG3P8axmlrudJDIKoaXVMzuvLIf8fwInYuzEtu_OAfA8MthSdx6ZP0hNMwADbKR0ORzW1YZyP2E0L1WIe0Yw6pg3ypBNMo0BeY0iq760HY4pFaA2MFfaC4ahMiF6kFEIdxgJkp-Tl6-gxP1R0mhPqQZVVVYHMOhz_CvLdxZgLl8mTq0HX3mnCnt1Z6eiTQuxXl4_hQUcceFWUlps5guOvpBHQqzPireKTZ5H0KyL6Vv0qMx2vBgbaWQRri0vGueYyu8lrF2gbQwiBCc_U1ksMbgP_LQf7h2DJid6fOND49o71IRU8sNOgVkA7RiAhRrFtG1LaXNHl5_TXTT-3m1Az27J2aoAxnZx2MXTc2RtyTUIRI9hdvplqfISx2ElYSs9FFtEHUwpr8GMLQJj-1hWh7bLxv2VPkdH0wCk4ujMjNFAYx6N0BZvqkyVZAr1Ky60ygvXyhsCNHM5BoZmhFqaVDS60KcH9KEBlhWXno-hi9B4yGY2GswgXXYe9JoHIMAqkXfmq7CcSQUViJG4KGWOZCxxX7BJJUCARYJHydxJ0cnSoIJ1nVgpYFk7y5Bw8m507F2MW-9mzwI4yD_tj6lGyFGug34BF-h9QbCxmn9yztXcCh8Q&__tn__=EH'\n",
    "browser.get(post_url)\n",
    "sleep(5)\n",
    "\n",
    "# Extraire le texte du post et les commentaires\n",
    "page_content = browser.page_source\n",
    "soup = BeautifulSoup(page_content, 'html.parser')\n",
    "\n",
    "# Extraire le texte du post\n",
    "post_text = soup.find('div', {'id': 'MPhotoContent'}).text\n",
    "print(\"Post Text: \", post_text)\n",
    "\n",
    "# Extraire les commentaires\n",
    "comments = soup.find_all('div', {'class': 'cc'})\n",
    "comment_texts = [comment.text for comment in comments]\n",
    "print(\"Comments: \", comment_texts)\n",
    "\n",
    "# Fermer le navigateur\n",
    "browser.quit()"
   ]
  },
  {
   "cell_type": "code",
   "execution_count": 6,
   "id": "48fd6b17",
   "metadata": {},
   "outputs": [
    {
     "name": "stdout",
     "output_type": "stream",
     "text": [
      "{'_id': ObjectId('66834702e48de9c3bd847ea2'), 'text': \"Les RépliquesL’ancien Premier ministre de droite sous Jacques Chirac, celui qui avait dit «\\xa0non\\xa0» à la guerre en Irak en 2003 Dominique de Villepin, annonce qu’il votera Front Populaire face au RN qui «\\xa0constitue la véritable menace pour notre pays\\xa0».20 juin · Personnalisé · dans Photos du journal3,6\\xa0KVotre commentaire... · Michel LouisEnfin un politicien qui n'a pas la langue de bois45 · J’aime · Réagir · Répondre · Plus · 20 juinAnna Domi Leloup a répondu · 22 réponsesErick ChandelierQuelle honte, choisir l’antisémite Mélenchon Chávez face au RN… il est bien un gauchiste comme Chirac… choisir que la France devienne le Venezuela… merci triste sire du même acabit que Hollande… vous vous rêvez comme lui, revenir sur le devant de la scène politique…Modifié · 126 · J’aime · Réagir · Répondre · Plus · 20 juinRapides a répondu · 95 réponsesSébastien PillotIl y a beaucoup de politicards de droite, mais il y a eu aussi des hommes d'État. Lui en est un.26 · J’aime · Réagir · Répondre · Plus · 20 juinSébastien Pillot a répondu · 20 réponsesFranck Mac FlyOn se rappellera juste que la Gauche a toujours appeler à voter contre le FN... Edit pour ceux qui ont du mal... La gauche a tjs appelé à voter contre le FN. Voir un ancien premier ministre de Chirac qui lui a été élu contre le FN avec les voix de la Gauche, ça fait du bien de voir ce gars de Droite renvoyer l'ascenseur !Modifié · 62 · J’aime · Réagir · Répondre · Plus · 20 juinFranck Mac Fly a répondu · 17 réponsesRodrigue LoembetUn vrai gars qui mérite le respect.6 · J’aime · Réagir · Répondre · Plus · 20 juinEliane Moya KellerBravo et merci Monsieur, enfin quelqu'un de droite pour faire barrage au FN !58 · J’aime · Réagir · Répondre · Plus · 20 juinTonnerre Cerisaie a répondu · 15 réponsesSerge DoutreSon expérience de premier ministre et d'ancien diplomate font que sa vision du monde est claire et sans parti pris.Modifié · 29 · J’aime · Réagir · Répondre · Plus · 20 juin7 réponsesAnnick Pruvost PiauQuelle honte ! Vous avez été 1er ministre, avec beaucoup d'autres , vous avez une responsabilité dans ce qui arrive en France.Modifié · 4 · J’aime · Réagir · Répondre · Plus · 20 juinDanièle TinierIl agit en responsabilité ! 👍53 · J’aime · Réagir · Répondre · Plus · 20 juinChris Danthuf a répondu · 24 réponsesAlexis Lutherstadt SevenskyChère Gauche, chère Droite,  Depuis 7 ans, notre président de la République œuvre contre la France et les français,  la République et la démocratie.  Mais dans son hubris, il n’a pas vu le cadeau qu'il venait de nous faire. De fait, quelque soit le résultat de ces législatives, la chienlit nous attend pour les deux prochaines années.  Mais, nous peuple de France, méritons mieux que le chaos ou le chaos : Renvoyez la Grenade !  Offrez aux françaises et aux français le pouvoir de trancher  d’ici 1 an, avec de vraies élections en destituant Emannuel Macron. C’est la seule chose pour laquelle vous pouvez être d’accord. Vous aurez ainsi le temps de proposer de vrais programmes,  nous aurons ainsi le temps de choisir en notre âme et conscience. Faites gagner au pays 2 années, retrouver au peuple sa légitimité, donnez à la vie politique une dernière chance. Il y a encore de la place pour l’espoir, ne soyez pas les pyromanes tant décrié par le pouvoir en place.  Que vive la République et vive la France  Citoyen AlexisJ’aime · Réagir · Répondre · Plus · 20 juin\\xa0Voir plus de commentaires…\", 'comments': []}\n"
     ]
    }
   ],
   "source": [
    "client = MongoClient(\"mongodb://localhost:27017/\")\n",
    "db = client[\"facebook\"]\n",
    "collection = db[\"posts\"]\n",
    "\n",
    "post_data = {\n",
    "    'text': post_text,\n",
    "    'comments': comment_texts\n",
    "}\n",
    "\n",
    "collection.insert_one(post_data)\n",
    "\n",
    "# Afficher l'échantillon inséré\n",
    "print(collection.find_one())"
   ]
  },
  {
   "cell_type": "code",
   "execution_count": null,
   "id": "b232f17e",
   "metadata": {},
   "outputs": [],
   "source": []
  }
 ],
 "metadata": {
  "kernelspec": {
   "display_name": "Python 3 (ipykernel)",
   "language": "python",
   "name": "python3"
  },
  "language_info": {
   "codemirror_mode": {
    "name": "ipython",
    "version": 3
   },
   "file_extension": ".py",
   "mimetype": "text/x-python",
   "name": "python",
   "nbconvert_exporter": "python",
   "pygments_lexer": "ipython3",
   "version": "3.9.13"
  }
 },
 "nbformat": 4,
 "nbformat_minor": 5
}
